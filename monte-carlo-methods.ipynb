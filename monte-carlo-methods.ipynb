{
 "cells": [
  {
   "cell_type": "markdown",
   "metadata": {},
   "source": [
    "The **Monte Carlo** methods of evaluating conditional mean for option pricing is nearly always the method of choice for high-dimensional problems. It is also easy to apply to problems with non-Markovian dynamics as well as strong path-dependency in the payout, which PDE or finite-difference method cannot handle. However, it is not straightforward to apply Monte Carlo on backward induction problem, such as American or Bermudan option pricing.\n",
    "\n",
    "The fundamental theoretical foundation of Monte Carlo is the **Strong Law of Large Numbers (LLN)** and **Central Limit Theorem (CLT)**."
   ]
  },
  {
   "cell_type": "markdown",
   "metadata": {},
   "source": [
    "## Generating Random Variables\n",
    "\n",
    "### Inverse Transform\n",
    "\n",
    "Let $Z\\sim F^{-1}(U)$, then $Z$ has CDF $F$. One can generalize by using general inverse of $F$ rather than the true inverse.\n",
    "\n",
    "### Acceptance-Rejection Method\n",
    "\n",
    "For the target pdf $f(z)$, find a 'blanket' $e(z)$ and constant $C$ such that $Ce(z)\\geq f(z)$, and that $e(z)$ is easy to sample from.\n",
    "- Draw a sample $Z$ from $e(z)$\n",
    "- Draw an independent uniform variable $U$\n",
    "- Accept the sample $Z$ if $U\\leq f(Z)/(Ce(Z))$; otherwise reject it.\n",
    "\n",
    "$C$ should be chosen as tight as possible so that it does not incur wasteful rejections.\n",
    "\n",
    "### Composition\n",
    "\n",
    "This is just a fancy name to use known mapping between random variables to generate from one to another, e.g. from Gaussian to log normal. Another example is to use linear transformation and cholesky decomposition to go from standardized multi-dimensional Gaussian to general multi-dimensional Gaussian."
   ]
  }
 ],
 "metadata": {
  "kernelspec": {
   "display_name": "Python 3",
   "language": "python",
   "name": "python3"
  },
  "language_info": {
   "codemirror_mode": {
    "name": "ipython",
    "version": 3
   },
   "file_extension": ".py",
   "mimetype": "text/x-python",
   "name": "python",
   "nbconvert_exporter": "python",
   "pygments_lexer": "ipython3",
   "version": "3.7.3"
  }
 },
 "nbformat": 4,
 "nbformat_minor": 2
}
